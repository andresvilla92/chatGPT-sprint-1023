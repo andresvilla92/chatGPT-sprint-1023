{
 "cells": [
  {
   "cell_type": "markdown",
   "id": "7869d6ca-39e9-4b74-ba3e-052813a4b12a",
   "metadata": {},
   "source": [
    "# Llamaindex connector"
   ]
  },
  {
   "cell_type": "code",
   "execution_count": 1,
   "id": "bb389b44-5f32-40df-bf1f-97c1869c6385",
   "metadata": {},
   "outputs": [],
   "source": [
    "import os\n",
    "import logging\n",
    "import sys\n",
    "from openai import OpenAI\n",
    "from dotenv import load_dotenv\n",
    "from langchain.chat_models import ChatOpenAI\n",
    "from llama_index import (\n",
    "    VectorStoreIndex, \n",
    "    SimpleDirectoryReader, \n",
    "    LLMPredictor, \n",
    "    ServiceContext, \n",
    "    StorageContext, \n",
    "    load_index_from_storage\n",
    "    )\n",
    "\n",
    "\n",
    "# logging.basicConfig(stream=sys.stdout, level=logging.DEBUG)\n",
    "# logging.getLogger().addHandler(logging.StreamHandler(stream=sys.stdout))\n",
    "\n",
    "# Load the environment variables\n",
    "load_dotenv()\n",
    "\n",
    "OpenAI.api_key = os.getenv(\"OPENAI_API_KEY\")"
   ]
  },
  {
   "cell_type": "markdown",
   "id": "ec0ec8e7-2f17-4784-894c-43a32ca54d09",
   "metadata": {},
   "source": [
    "Generate the embeddings and store them"
   ]
  },
  {
   "cell_type": "code",
   "execution_count": 2,
   "id": "d14e831a-6fde-4daf-9c05-5ef6121f1d61",
   "metadata": {},
   "outputs": [],
   "source": [
    "# check if storage already exists\n",
    "if not os.path.exists(\"./storage\"):\n",
    "    # load the documents and create the index\n",
    "    documents = SimpleDirectoryReader(\"data\").load_data()\n",
    "    index = VectorStoreIndex.from_documents(documents, show_progress=True)\n",
    "    # Save embeddings to disk \n",
    "    index.storage_context.persist()\n",
    "else:\n",
    "    # load the existing index\n",
    "    storage_context = StorageContext.from_defaults(persist_dir=\"./storage\")\n",
    "    index = load_index_from_storage(storage_context)"
   ]
  },
  {
   "cell_type": "markdown",
   "id": "031230e8",
   "metadata": {},
   "source": [
    "Integrate the LLM"
   ]
  },
  {
   "cell_type": "code",
   "execution_count": 5,
   "id": "59d741ed-78ba-4623-9cff-34e731b0430a",
   "metadata": {},
   "outputs": [
    {
     "name": "stdout",
     "output_type": "stream",
     "text": [
      "The author mentions that before college, they worked on writing and programming. They wrote short stories and also tried writing programs on the IBM 1401 computer. They also mention getting a microcomputer, a TRS-80, and started programming on it.\n"
     ]
    }
   ],
   "source": [
    "llm_predictor = LLMPredictor(\n",
    "    llm = ChatOpenAI(\n",
    "        temperature=0.2,\n",
    "        model_name =\"gpt-3.5-turbo\",\n",
    "        openai_api_key= os.getenv(\"OPENAI_API_KEY\")\n",
    "        )\n",
    "    )\n",
    "\n",
    "service_context = ServiceContext.from_defaults(llm_predictor=llm_predictor)\n",
    "\n",
    "query_engine = index.as_query_engine(service_context=service_context)\n",
    "\n",
    "question = \"What did the author do growing up\"\n",
    "\n",
    "response = query_engine.query(question)\n",
    "\n",
    "print(response)"
   ]
  },
  {
   "cell_type": "code",
   "execution_count": null,
   "id": "ac403f0f-efa8-4223-a87e-566a8b4f0e13",
   "metadata": {},
   "outputs": [],
   "source": []
  }
 ],
 "metadata": {
  "kernelspec": {
   "display_name": "Python 3 (ipykernel)",
   "language": "python",
   "name": "python3"
  },
  "language_info": {
   "codemirror_mode": {
    "name": "ipython",
    "version": 3
   },
   "file_extension": ".py",
   "mimetype": "text/x-python",
   "name": "python",
   "nbconvert_exporter": "python",
   "pygments_lexer": "ipython3",
   "version": "3.9.18"
  }
 },
 "nbformat": 4,
 "nbformat_minor": 5
}
